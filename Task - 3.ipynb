{
 "cells": [
  {
   "cell_type": "markdown",
   "metadata": {},
   "source": [
    "# **Task-3**\n",
    "# Image Classification with SVM and PCA\n",
    "\n",
    "This notebook performs image classification using a Support Vector Machine (SVM) with Principal Component Analysis (PCA) for dimensionality reduction. It includes steps for data preprocessing, model training, hyperparameter tuning, evaluation, and visualization of results.\n"
   ]
  },
  {
   "cell_type": "markdown",
   "metadata": {},
   "source": [
    " Import libraries for file handling, numerical operations, image processing, data handling, machine learning, metrics, visualization, and model saving/loading.\n"
   ]
  },
  {
   "cell_type": "code",
   "execution_count": 2,
   "metadata": {},
   "outputs": [],
   "source": [
    "# Import Required libraries\n",
    "import os\n",
    "import numpy as np\n",
    "import cv2\n",
    "import pandas as pd\n",
    "from sklearn.svm import SVC\n",
    "from sklearn.metrics import classification_report, confusion_matrix\n",
    "import matplotlib.pyplot as plt\n",
    "from tqdm import tqdm\n",
    "import joblib\n",
    "from sklearn.model_selection import GridSearchCV, train_test_split\n",
    "from sklearn.decomposition import PCA\n",
    "from sklearn.pipeline import Pipeline\n",
    "import seaborn as sns\n",
    "import time"
   ]
  },
  {
   "cell_type": "markdown",
   "metadata": {},
   "source": [
    " This cell defines the file paths for the training data, test data, confusion matrix image, classification report, model file, and CSV file.\n",
    " It also initializes lists for storing image features, labels, and metadata (image IDs and labels).\n"
   ]
  },
  {
   "cell_type": "code",
   "execution_count": 3,
   "metadata": {},
   "outputs": [],
   "source": [
    "# Define paths\n",
    "train_dir = \"C:/Current_Projects/SC_ML/SCT_ML_3/data/train\"\n",
    "test_dir = \"C:/Current_Projects/SC_ML/SCT_ML_3/data/test1\"\n",
    "confusion_image_path = \"confusion_matrix.png\"\n",
    "classification_file_path = 'classification_report.txt'\n",
    "model_file_path = \"svm_model.pkl\"\n",
    "csv_output_path = \"image_labels.csv\"  # Path for saving the CSV file\n",
    "\n",
    "# Load and preprocess data\n",
    "image_size = (50, 50)\n",
    "train_images = os.listdir(train_dir)\n",
    "features = []\n",
    "labels = []\n",
    "image_data = []\n"
   ]
  },
  {
   "cell_type": "markdown",
   "metadata": {},
   "source": [
    " This cell processes the training images by reading each image, resizing, normalizing, and flattening it into a 1D array. \n",
    " The processed images and their labels are stored in features and labels lists. \n",
    " A CSV file is created with image IDs and corresponding labels.\n"
   ]
  },
  {
   "cell_type": "code",
   "execution_count": 4,
   "metadata": {},
   "outputs": [
    {
     "name": "stderr",
     "output_type": "stream",
     "text": [
      "Processing Train Images: 100%|██████████| 25000/25000 [07:48<00:00, 53.32it/s]\n"
     ]
    },
    {
     "name": "stdout",
     "output_type": "stream",
     "text": [
      "CSV file saved at image_labels.csv\n"
     ]
    }
   ],
   "source": [
    "# Process train images and create the CSV file\n",
    "for image in tqdm(train_images, desc=\"Processing Train Images\"):\n",
    "    if image.startswith('cat'):\n",
    "        label = 0\n",
    "    else:\n",
    "        label = 1\n",
    "    image_read = cv2.imread(os.path.join(train_dir, image))\n",
    "    if image_read is not None:  # Check for valid image\n",
    "        image_resized = cv2.resize(image_read, image_size)\n",
    "        image_normalized = image_resized / 255.0\n",
    "        image_flatten = image_normalized.flatten()\n",
    "        features.append(image_flatten)\n",
    "        labels.append(label)\n",
    "        image_data.append({'image_id': image, 'label': label})\n",
    "\n",
    "# Convert to numpy arrays\n",
    "features = np.asarray(features)\n",
    "labels = np.asarray(labels)\n",
    "\n",
    "# Save image IDs and labels to CSV file\n",
    "image_data_df = pd.DataFrame(image_data)\n",
    "image_data_df.to_csv(csv_output_path, index=False)\n",
    "print(f\"CSV file saved at {csv_output_path}\")\n"
   ]
  },
  {
   "cell_type": "markdown",
   "metadata": {},
   "source": [
    "This cell performs a train-test split on the processed image data. \n",
    "It also initializes a PCA (Principal Component Analysis) object and an SVM (Support Vector Machine) classifier.\n",
    "These components are added into a machine learning pipeline for further use.\n"
   ]
  },
  {
   "cell_type": "code",
   "execution_count": 5,
   "metadata": {},
   "outputs": [],
   "source": [
    "# Train-test split\n",
    "X_train, X_test, y_train, y_test = train_test_split(features, labels, test_size=0.2, shuffle=True, random_state=42)\n",
    "\n",
    "# PCA, SVM, and Pipeline\n",
    "n_components = 0.9\n",
    "pca = PCA(n_components=n_components)\n",
    "svm = SVC()\n",
    "pipeline = Pipeline([\n",
    "    ('pca', pca),\n",
    "    ('svm', svm)\n",
    "])\n"
   ]
  },
  {
   "cell_type": "markdown",
   "metadata": {},
   "source": [
    "This cell defines the grid search parameters for hyperparameter tuning of the PCA and SVM.\n",
    "A grid search is performed with cross-validation to find the best parameters for the pipeline. \n",
    "The time taken for the grid search is recorded, and the best parameters and scores are printed.\n"
   ]
  },
  {
   "cell_type": "code",
   "execution_count": 7,
   "metadata": {},
   "outputs": [
    {
     "name": "stdout",
     "output_type": "stream",
     "text": [
      "Fitting 2 folds for each of 16 candidates, totalling 32 fits\n",
      "[CV 1/2] END pca__n_components=2, svm__kernel=linear;, score=0.525 total time=  36.9s\n",
      "[CV 2/2] END pca__n_components=2, svm__kernel=linear;, score=0.534 total time=  20.7s\n",
      "[CV 1/2] END pca__n_components=2, svm__kernel=rbf;, score=0.565 total time=  22.1s\n",
      "[CV 2/2] END pca__n_components=2, svm__kernel=rbf;, score=0.567 total time=  54.5s\n",
      "[CV 1/2] END pca__n_components=2, svm__kernel=poly;, score=0.490 total time=  21.5s\n",
      "[CV 2/2] END pca__n_components=2, svm__kernel=poly;, score=0.483 total time=  13.8s\n",
      "[CV 1/2] END pca__n_components=2, svm__kernel=sigmoid;, score=0.501 total time=  10.8s\n",
      "[CV 2/2] END pca__n_components=2, svm__kernel=sigmoid;, score=0.501 total time=  12.0s\n",
      "[CV 1/2] END pca__n_components=1, svm__kernel=linear;, score=0.515 total time=  13.4s\n",
      "[CV 2/2] END pca__n_components=1, svm__kernel=linear;, score=0.521 total time=  12.8s\n",
      "[CV 1/2] END pca__n_components=1, svm__kernel=rbf;, score=0.529 total time=  35.6s\n",
      "[CV 2/2] END pca__n_components=1, svm__kernel=rbf;, score=0.533 total time=  57.1s\n",
      "[CV 1/2] END pca__n_components=1, svm__kernel=poly;, score=0.498 total time=  18.2s\n",
      "[CV 2/2] END pca__n_components=1, svm__kernel=poly;, score=0.499 total time=  11.2s\n",
      "[CV 1/2] END pca__n_components=1, svm__kernel=sigmoid;, score=0.499 total time=  18.8s\n",
      "[CV 2/2] END pca__n_components=1, svm__kernel=sigmoid;, score=0.502 total time=  18.8s\n",
      "[CV 1/2] END pca__n_components=0.9, svm__kernel=linear;, score=0.599 total time=15.4min\n",
      "[CV 2/2] END pca__n_components=0.9, svm__kernel=linear;, score=0.604 total time=18.6min\n",
      "[CV 1/2] END pca__n_components=0.9, svm__kernel=rbf;, score=0.664 total time=10.4min\n",
      "[CV 2/2] END pca__n_components=0.9, svm__kernel=rbf;, score=0.662 total time= 9.7min\n",
      "[CV 1/2] END pca__n_components=0.9, svm__kernel=poly;, score=0.598 total time= 8.4min\n",
      "[CV 2/2] END pca__n_components=0.9, svm__kernel=poly;, score=0.595 total time= 8.0min\n",
      "[CV 1/2] END pca__n_components=0.9, svm__kernel=sigmoid;, score=0.515 total time= 7.3min\n",
      "[CV 2/2] END pca__n_components=0.9, svm__kernel=sigmoid;, score=0.528 total time= 8.0min\n",
      "[CV 1/2] END pca__n_components=0.8, svm__kernel=linear;, score=0.579 total time= 8.2min\n",
      "[CV 2/2] END pca__n_components=0.8, svm__kernel=linear;, score=0.588 total time= 8.3min\n",
      "[CV 1/2] END pca__n_components=0.8, svm__kernel=rbf;, score=0.654 total time= 5.8min\n",
      "[CV 2/2] END pca__n_components=0.8, svm__kernel=rbf;, score=0.655 total time= 7.0min\n",
      "[CV 1/2] END pca__n_components=0.8, svm__kernel=poly;, score=0.589 total time= 6.0min\n",
      "[CV 2/2] END pca__n_components=0.8, svm__kernel=poly;, score=0.587 total time= 5.8min\n",
      "[CV 1/2] END pca__n_components=0.8, svm__kernel=sigmoid;, score=0.516 total time= 7.2min\n",
      "[CV 2/2] END pca__n_components=0.8, svm__kernel=sigmoid;, score=0.524 total time= 7.4min\n",
      "Best Parameters:  {'pca__n_components': 0.9, 'svm__kernel': 'rbf'}\n",
      "Best Score:  0.663\n"
     ]
    }
   ],
   "source": [
    "# Grid search parameters\n",
    "param_grid = {\n",
    "    'pca__n_components': [2, 1, 0.9, 0.8],\n",
    "    'svm__kernel': ['linear', 'rbf', 'poly', 'sigmoid'],\n",
    "}\n",
    "\n",
    "# Grid search and training\n",
    "start_time = time.time()\n",
    "grid_search = GridSearchCV(pipeline, param_grid, cv=2, verbose=3)\n",
    "grid_search.fit(X_train, y_train)\n",
    "end_time = time.time()\n",
    "\n",
    "# Best parameters and score\n",
    "best_pipeline = grid_search.best_estimator_\n",
    "best_params = grid_search.best_params_\n",
    "best_score = grid_search.best_score_\n",
    "\n",
    "print(\"Best Parameters: \", best_params)\n",
    "print(\"Best Score: \", best_score)\n"
   ]
  },
  {
   "cell_type": "markdown",
   "metadata": {},
   "source": [
    "This cell evaluates the best model found by the grid search on the test dataset. \n",
    "It prints the test accuracy and generates a classification report, which is also saved to a text file."
   ]
  },
  {
   "cell_type": "code",
   "execution_count": 8,
   "metadata": {},
   "outputs": [
    {
     "name": "stdout",
     "output_type": "stream",
     "text": [
      "Test Accuracy: 0.6846\n",
      "              precision    recall  f1-score   support\n",
      "\n",
      "         cat       0.69      0.69      0.69      2515\n",
      "         dog       0.68      0.68      0.68      2485\n",
      "\n",
      "    accuracy                           0.68      5000\n",
      "   macro avg       0.68      0.68      0.68      5000\n",
      "weighted avg       0.68      0.68      0.68      5000\n",
      "\n"
     ]
    }
   ],
   "source": [
    "# Evaluation on test dataset\n",
    "y_pred = best_pipeline.predict(X_test)\n",
    "accuracy = np.mean(y_pred == y_test)\n",
    "\n",
    "# Print accuracy\n",
    "print(f\"Test Accuracy: {accuracy:.4f}\")\n",
    "\n",
    "# Classification report\n",
    "clf_report = classification_report(y_test, y_pred, target_names=['cat', 'dog'])\n",
    "print(clf_report)\n",
    "\n",
    "# Save classification report to file\n",
    "with open(classification_file_path, 'w') as f:\n",
    "    f.write(clf_report)\n"
   ]
  },
  {
   "cell_type": "markdown",
   "metadata": {},
   "source": [
    "This cell computes and visualizes the confusion matrix for the test dataset predictions.\n",
    "It saves the confusion matrix plot to an image file and saves the trained model to a pickle file.\n",
    "Finally, it prints the total time taken for the grid search and training.\n"
   ]
  },
  {
   "cell_type": "code",
   "execution_count": 9,
   "metadata": {},
   "outputs": [
    {
     "data": {
      "image/png": "[encoded data removed]",
      "text/plain": [
       "<Figure size 1000x700 with 2 Axes>"
      ]
     },
     "metadata": {},
     "output_type": "display_data"
    },
    {
     "name": "stdout",
     "output_type": "stream",
     "text": [
      "Total Training Time: 9553.53 seconds\n"
     ]
    }
   ],
   "source": [
    "# Confusion matrix\n",
    "conf_matrix = confusion_matrix(y_test, y_pred)\n",
    "\n",
    "# Plot confusion matrix\n",
    "plt.figure(figsize=(10, 7))\n",
    "sns.heatmap(conf_matrix, annot=True, fmt='d', cmap='Blues', xticklabels=['cat', 'dog'], yticklabels=['cat', 'dog'])\n",
    "plt.title('Confusion Matrix')\n",
    "plt.xlabel('Predicted')\n",
    "plt.ylabel('Actual')\n",
    "plt.savefig(confusion_image_path)\n",
    "plt.show()\n",
    "\n",
    "# Save the trained model\n",
    "joblib.dump(best_pipeline, model_file_path)\n",
    "\n",
    "# Print total time\n",
    "print(f\"Total Training Time: {end_time - start_time:.2f} seconds\")\n"
   ]
  }
 ],
 "metadata": {
  "kernelspec": {
   "display_name": "Python 3",
   "language": "python",
   "name": "python3"
  },
  "language_info": {
   "codemirror_mode": {
    "name": "ipython",
    "version": 3
   },
   "file_extension": ".py",
   "mimetype": "text/x-python",
   "name": "python",
   "nbconvert_exporter": "python",
   "pygments_lexer": "ipython3",
   "version": "3.12.6"
  }
 },
 "nbformat": 4,
 "nbformat_minor": 2
}
